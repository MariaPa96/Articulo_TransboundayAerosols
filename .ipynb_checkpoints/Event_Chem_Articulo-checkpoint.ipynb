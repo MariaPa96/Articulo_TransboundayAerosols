{
 "cells": [
  {
   "cell_type": "code",
   "execution_count": 1,
   "id": "73eca6a2",
   "metadata": {},
   "outputs": [],
   "source": [
    "from ExtEmissions_AV import Ext\n",
    "import numpy as np\n",
    "import pandas as pd\n",
    "import matplotlib.pyplot as plt\n"
   ]
  },
  {
   "cell_type": "code",
   "execution_count": 2,
   "id": "a440c5cf",
   "metadata": {},
   "outputs": [
    {
     "name": "stderr",
     "output_type": "stream",
     "text": [
      "C:\\Users\\maria\\OneDrive\\Documents\\GitHub\\BC_ForestFire_Colombia\\ExtEmissions_AV.py:44: UserWarning: Could not infer format, so each element will be parsed individually, falling back to `dateutil`. To ensure parsing is consistent and as-expected, please specify a format.\n",
      "  Data2=pd.read_excel(file_chemi,sheet_name='Facciones Carbono',index_col=2,skiprows=8,parse_dates=True)\n"
     ]
    }
   ],
   "source": [
    "## Test U, Filtro True\n",
    "self=Ext(level=1.0)\n",
    "self.Read_Chemi()#variables=['carbon'])"
   ]
  },
  {
   "cell_type": "code",
   "execution_count": 6,
   "id": "300ae314",
   "metadata": {},
   "outputs": [
    {
     "data": {
      "text/html": [
       "<div>\n",
       "<style scoped>\n",
       "    .dataframe tbody tr th:only-of-type {\n",
       "        vertical-align: middle;\n",
       "    }\n",
       "\n",
       "    .dataframe tbody tr th {\n",
       "        vertical-align: top;\n",
       "    }\n",
       "\n",
       "    .dataframe thead th {\n",
       "        text-align: right;\n",
       "    }\n",
       "</style>\n",
       "<table border=\"1\" class=\"dataframe\">\n",
       "  <thead>\n",
       "    <tr style=\"text-align: right;\">\n",
       "      <th></th>\n",
       "      <th>value</th>\n",
       "    </tr>\n",
       "  </thead>\n",
       "  <tbody>\n",
       "    <tr>\n",
       "      <th>Mg</th>\n",
       "      <td>0.093701</td>\n",
       "    </tr>\n",
       "    <tr>\n",
       "      <th>Al</th>\n",
       "      <td>1.000000</td>\n",
       "    </tr>\n",
       "    <tr>\n",
       "      <th>Si</th>\n",
       "      <td>2.586877</td>\n",
       "    </tr>\n",
       "    <tr>\n",
       "      <th>P</th>\n",
       "      <td>0.025984</td>\n",
       "    </tr>\n",
       "    <tr>\n",
       "      <th>S</th>\n",
       "      <td>0.011811</td>\n",
       "    </tr>\n",
       "    <tr>\n",
       "      <th>Cl</th>\n",
       "      <td>0.019860</td>\n",
       "    </tr>\n",
       "    <tr>\n",
       "      <th>K</th>\n",
       "      <td>0.086702</td>\n",
       "    </tr>\n",
       "    <tr>\n",
       "      <th>Ca</th>\n",
       "      <td>0.208136</td>\n",
       "    </tr>\n",
       "    <tr>\n",
       "      <th>Ti</th>\n",
       "      <td>0.120560</td>\n",
       "    </tr>\n",
       "    <tr>\n",
       "      <th>Mn</th>\n",
       "      <td>0.015311</td>\n",
       "    </tr>\n",
       "    <tr>\n",
       "      <th>Fe</th>\n",
       "      <td>0.892213</td>\n",
       "    </tr>\n",
       "    <tr>\n",
       "      <th>Cu</th>\n",
       "      <td>0.000962</td>\n",
       "    </tr>\n",
       "    <tr>\n",
       "      <th>Zn</th>\n",
       "      <td>0.001487</td>\n",
       "    </tr>\n",
       "  </tbody>\n",
       "</table>\n",
       "</div>"
      ],
      "text/plain": [
       "       value\n",
       "Mg  0.093701\n",
       "Al  1.000000\n",
       "Si  2.586877\n",
       "P   0.025984\n",
       "S   0.011811\n",
       "Cl  0.019860\n",
       "K   0.086702\n",
       "Ca  0.208136\n",
       "Ti  0.120560\n",
       "Mn  0.015311\n",
       "Fe  0.892213\n",
       "Cu  0.000962\n",
       "Zn  0.001487"
      ]
     },
     "execution_count": 6,
     "metadata": {},
     "output_type": "execute_result"
    }
   ],
   "source": [
    "self.Crustal/self.Crustal.loc['Al','value']"
   ]
  },
  {
   "cell_type": "code",
   "execution_count": 70,
   "id": "f7c8d64b",
   "metadata": {},
   "outputs": [
    {
     "data": {
      "text/plain": [
       "2019-04-30     2.619476\n",
       "2019-05-31     1.954442\n",
       "2019-06-30     1.407387\n",
       "2019-07-31    15.041602\n",
       "2019-08-31     3.029217\n",
       "2019-09-30     4.779794\n",
       "2019-10-31     2.743761\n",
       "2019-11-30     1.010186\n",
       "2019-12-31     1.672607\n",
       "2020-01-31     2.822277\n",
       "2020-02-29     1.972598\n",
       "2020-03-31     2.569496\n",
       "2020-04-30      0.42956\n",
       "2020-05-31     0.982666\n",
       "2020-06-30     1.245689\n",
       "2020-07-31      1.63625\n",
       "2020-08-31    13.615996\n",
       "2020-09-30    26.425686\n",
       "2020-10-31     9.446729\n",
       "2020-11-30     3.248057\n",
       "2020-12-31          NaN\n",
       "2021-01-31          NaN\n",
       "2021-02-28          NaN\n",
       "2021-03-31      2.09405\n",
       "2021-04-30     1.735118\n",
       "2021-05-31     4.050793\n",
       "2021-06-30    17.670188\n",
       "2021-07-31    13.725466\n",
       "2021-08-31    11.119871\n",
       "2021-09-30     0.008379\n",
       "2021-10-31          NaN\n",
       "2021-11-30          NaN\n",
       "2021-12-31          NaN\n",
       "2022-01-31          NaN\n",
       "2022-02-28          NaN\n",
       "2022-03-31     2.042033\n",
       "2022-04-30     1.923811\n",
       "2022-05-31     0.812768\n",
       "2022-06-30     1.232673\n",
       "2022-07-31      1.13434\n",
       "2022-08-31     1.095836\n",
       "2022-09-30     1.386839\n",
       "2022-10-31     2.059657\n",
       "Freq: M, Name: Ni, dtype: object"
      ]
     },
     "execution_count": 70,
     "metadata": {},
     "output_type": "execute_result"
    }
   ],
   "source": [
    "self.Chem['metal']['Ni'].resample('M').mean()*1000 ##Cr, Ni"
   ]
  },
  {
   "cell_type": "code",
   "execution_count": 35,
   "id": "e72f0e84",
   "metadata": {},
   "outputs": [
    {
     "data": {
      "text/plain": [
       "aod             0.0\n",
       "bcaod           0.0\n",
       "omaod           0.0\n",
       "suaod           0.0\n",
       "duaod           0.0\n",
       "tcso2           0.0\n",
       "numero        605.0\n",
       "dias_suaod    131.0\n",
       "dias_duaod     51.0\n",
       "dias_omaod    139.0\n",
       "dias_bcaod    130.0\n",
       "dias_tcso2     18.0\n",
       "Name: 2020-08-28 00:00:00, dtype: float64"
      ]
     },
     "execution_count": 35,
     "metadata": {},
     "output_type": "execute_result"
    }
   ],
   "source": [
    "self.Events.loc['2020-08-28',:]"
   ]
  },
  {
   "cell_type": "code",
   "execution_count": 32,
   "id": "a97b2b56",
   "metadata": {},
   "outputs": [],
   "source": [
    "import scikit_posthocs as sp\n",
    "\n",
    "for com in ['Fe']:#self.Data.columns[:-2]:\n",
    "\t\tif (self.Data[com][self.Data.Cat==2].count()>10) and (self.Data[com][self.Data.Cat==1].count()>10) and (self.Data[com][self.Data.Cat==3].count()>10):\n",
    "\t\t\tCompara=sp.posthoc_mannwhitney(self.Data.dropna(subset=[com])[[com,'Cat']].astype(float), val_col=com, group_col='Cat', p_adjust='holm')#,alternative='greater')#.sort_index().round(4)\n"
   ]
  },
  {
   "cell_type": "code",
   "execution_count": 36,
   "id": "07241ab4",
   "metadata": {},
   "outputs": [
    {
     "data": {
      "text/plain": [
       "True"
      ]
     },
     "execution_count": 36,
     "metadata": {},
     "output_type": "execute_result"
    }
   ],
   "source": [
    "self.Data[com][self.Data.Cat==2].mean()>self.Data[com][self.Data.Cat==1].mean()"
   ]
  },
  {
   "cell_type": "code",
   "execution_count": 31,
   "id": "acd0f8b3",
   "metadata": {},
   "outputs": [
    {
     "data": {
      "text/html": [
       "<div>\n",
       "<style scoped>\n",
       "    .dataframe tbody tr th:only-of-type {\n",
       "        vertical-align: middle;\n",
       "    }\n",
       "\n",
       "    .dataframe tbody tr th {\n",
       "        vertical-align: top;\n",
       "    }\n",
       "\n",
       "    .dataframe thead th {\n",
       "        text-align: right;\n",
       "    }\n",
       "</style>\n",
       "<table border=\"1\" class=\"dataframe\">\n",
       "  <thead>\n",
       "    <tr style=\"text-align: right;\">\n",
       "      <th></th>\n",
       "      <th>1.0</th>\n",
       "      <th>2.0</th>\n",
       "      <th>3.0</th>\n",
       "    </tr>\n",
       "  </thead>\n",
       "  <tbody>\n",
       "    <tr>\n",
       "      <th>1.0</th>\n",
       "      <td>1.0</td>\n",
       "      <td>1.000000</td>\n",
       "      <td>1.000000</td>\n",
       "    </tr>\n",
       "    <tr>\n",
       "      <th>2.0</th>\n",
       "      <td>1.0</td>\n",
       "      <td>1.000000</td>\n",
       "      <td>0.070237</td>\n",
       "    </tr>\n",
       "    <tr>\n",
       "      <th>3.0</th>\n",
       "      <td>1.0</td>\n",
       "      <td>0.070237</td>\n",
       "      <td>1.000000</td>\n",
       "    </tr>\n",
       "  </tbody>\n",
       "</table>\n",
       "</div>"
      ],
      "text/plain": [
       "     1.0       2.0       3.0\n",
       "1.0  1.0  1.000000  1.000000\n",
       "2.0  1.0  1.000000  0.070237\n",
       "3.0  1.0  0.070237  1.000000"
      ]
     },
     "execution_count": 31,
     "metadata": {},
     "output_type": "execute_result"
    }
   ],
   "source": [
    "Compara## greater"
   ]
  },
  {
   "cell_type": "code",
   "execution_count": 29,
   "id": "82e776cd",
   "metadata": {},
   "outputs": [
    {
     "data": {
      "text/html": [
       "<div>\n",
       "<style scoped>\n",
       "    .dataframe tbody tr th:only-of-type {\n",
       "        vertical-align: middle;\n",
       "    }\n",
       "\n",
       "    .dataframe tbody tr th {\n",
       "        vertical-align: top;\n",
       "    }\n",
       "\n",
       "    .dataframe thead th {\n",
       "        text-align: right;\n",
       "    }\n",
       "</style>\n",
       "<table border=\"1\" class=\"dataframe\">\n",
       "  <thead>\n",
       "    <tr style=\"text-align: right;\">\n",
       "      <th></th>\n",
       "      <th>1.0</th>\n",
       "      <th>2.0</th>\n",
       "      <th>3.0</th>\n",
       "    </tr>\n",
       "  </thead>\n",
       "  <tbody>\n",
       "    <tr>\n",
       "      <th>1.0</th>\n",
       "      <td>1.000000</td>\n",
       "      <td>0.009814</td>\n",
       "      <td>0.802921</td>\n",
       "    </tr>\n",
       "    <tr>\n",
       "      <th>2.0</th>\n",
       "      <td>0.009814</td>\n",
       "      <td>1.000000</td>\n",
       "      <td>0.978551</td>\n",
       "    </tr>\n",
       "    <tr>\n",
       "      <th>3.0</th>\n",
       "      <td>0.802921</td>\n",
       "      <td>0.978551</td>\n",
       "      <td>1.000000</td>\n",
       "    </tr>\n",
       "  </tbody>\n",
       "</table>\n",
       "</div>"
      ],
      "text/plain": [
       "          1.0       2.0       3.0\n",
       "1.0  1.000000  0.009814  0.802921\n",
       "2.0  0.009814  1.000000  0.978551\n",
       "3.0  0.802921  0.978551  1.000000"
      ]
     },
     "execution_count": 29,
     "metadata": {},
     "output_type": "execute_result"
    }
   ],
   "source": [
    "Compara"
   ]
  },
  {
   "cell_type": "code",
   "execution_count": 10,
   "id": "7ff82c38",
   "metadata": {},
   "outputs": [
    {
     "data": {
      "text/plain": [
       "Index(['Fluoruro', 'Cloruro', 'Nitrato', 'Sulfato', 'Total'], dtype='object')"
      ]
     },
     "execution_count": 10,
     "metadata": {},
     "output_type": "execute_result"
    }
   ],
   "source": [
    "self.Chem['ion'].columns"
   ]
  },
  {
   "cell_type": "code",
   "execution_count": 24,
   "id": "512af9c6",
   "metadata": {},
   "outputs": [],
   "source": [
    "var='metal'\n",
    "event='tcso2'\n",
    "Data=self.Chem[var].copy()\n",
    "Data['dias']=self.Events['dias_%s'%event][self.Events.index.floor('D').isin(Data.index)]"
   ]
  },
  {
   "cell_type": "code",
   "execution_count": 26,
   "id": "16d678f8",
   "metadata": {},
   "outputs": [],
   "source": [
    "self.PostHoc_test(event='duaod',filtro=False,variables=['metal'])#,'ion','carbon'])\n",
    "#self.df_PostHoc['carbon']"
   ]
  },
  {
   "cell_type": "code",
   "execution_count": 27,
   "id": "2d2f2e0a",
   "metadata": {},
   "outputs": [
    {
     "data": {
      "text/html": [
       "<div>\n",
       "<style scoped>\n",
       "    .dataframe tbody tr th:only-of-type {\n",
       "        vertical-align: middle;\n",
       "    }\n",
       "\n",
       "    .dataframe tbody tr th {\n",
       "        vertical-align: top;\n",
       "    }\n",
       "\n",
       "    .dataframe thead th {\n",
       "        text-align: right;\n",
       "    }\n",
       "</style>\n",
       "<table border=\"1\" class=\"dataframe\">\n",
       "  <thead>\n",
       "    <tr style=\"text-align: right;\">\n",
       "      <th></th>\n",
       "      <th>K</th>\n",
       "      <th>V</th>\n",
       "      <th>Cr</th>\n",
       "      <th>Fe</th>\n",
       "      <th>Metals</th>\n",
       "    </tr>\n",
       "  </thead>\n",
       "  <tbody>\n",
       "    <tr>\n",
       "      <th>1</th>\n",
       "      <td>0.086694</td>\n",
       "      <td>0.078272</td>\n",
       "      <td>0.098291</td>\n",
       "      <td>0.019628</td>\n",
       "      <td>0.041253</td>\n",
       "    </tr>\n",
       "    <tr>\n",
       "      <th>2</th>\n",
       "      <td>1.000000</td>\n",
       "      <td>1.000000</td>\n",
       "      <td>1.000000</td>\n",
       "      <td>1.000000</td>\n",
       "      <td>1.000000</td>\n",
       "    </tr>\n",
       "    <tr>\n",
       "      <th>3</th>\n",
       "      <td>0.193508</td>\n",
       "      <td>0.180767</td>\n",
       "      <td>0.098291</td>\n",
       "      <td>0.093650</td>\n",
       "      <td>0.033294</td>\n",
       "    </tr>\n",
       "  </tbody>\n",
       "</table>\n",
       "</div>"
      ],
      "text/plain": [
       "          K         V        Cr        Fe    Metals\n",
       "1  0.086694  0.078272  0.098291  0.019628  0.041253\n",
       "2  1.000000  1.000000  1.000000  1.000000  1.000000\n",
       "3  0.193508  0.180767  0.098291  0.093650  0.033294"
      ]
     },
     "execution_count": 27,
     "metadata": {},
     "output_type": "execute_result"
    }
   ],
   "source": [
    "self.df_PostHoc['metal'].dropna(axis=1,how='all')"
   ]
  },
  {
   "cell_type": "code",
   "execution_count": 6,
   "id": "a887e44d",
   "metadata": {},
   "outputs": [
    {
     "data": {
      "text/plain": [
       "57"
      ]
     },
     "execution_count": 6,
     "metadata": {},
     "output_type": "execute_result"
    }
   ],
   "source": [
    "self.Data.Cat[self.Data.Cat==1]+len(self.Data.Cat[self.Data.Cat==2])+len(self.Data.Cat[self.Data.Cat==3])"
   ]
  },
  {
   "cell_type": "code",
   "execution_count": 40,
   "id": "a18541f8",
   "metadata": {},
   "outputs": [
    {
     "data": {
      "text/plain": [
       "11"
      ]
     },
     "execution_count": 40,
     "metadata": {},
     "output_type": "execute_result"
    }
   ],
   "source": [
    "self.Data['Se'][self.Data.Cat==3].count()"
   ]
  },
  {
   "cell_type": "code",
   "execution_count": 4,
   "id": "9e4c3004",
   "metadata": {},
   "outputs": [],
   "source": [
    "import scikit_posthocs as sp\n",
    "com='Total'"
   ]
  },
  {
   "cell_type": "code",
   "execution_count": 76,
   "id": "a3a1c805",
   "metadata": {},
   "outputs": [
    {
     "data": {
      "text/plain": [
       "(-2.2, 2.2)"
      ]
     },
     "execution_count": 76,
     "metadata": {},
     "output_type": "execute_result"
    },
    {
     "data": {
      "image/png": "[encoded data removed]",
      "text/plain": [
       "<Figure size 500x1000 with 1 Axes>"
      ]
     },
     "metadata": {},
     "output_type": "display_data"
    }
   ],
   "source": [
    "event='omaod'\n",
    "self.nn = [-15,-3,4,16]\n",
    "#self.lockdown_dates = ['2020-03-23','2020-06-01']\n",
    "self.Whisker_Plot(event=event,filtro=False,confianza=90,variables=['metal','ion','carbon','cation','soc'])\n",
    "plt.title('a. BB aerosols\\nAnomaly 0.8 Std' if event=='omaod' else 'b. Dust\\nAnomaly 2.0 Std' if event=='duaod' else 'c. Volcanic aerosols\\nAnomaly 0.8 Std' ,fontsize=14)\n",
    "plt.xlim(-2.2,2.2)\n",
    "#legend=plt.legend(loc=\"lower center\", bbox_to_anchor=(0.50, -0.17), ncol = 3,fontsize=14)\n",
    "#frame = legend.get_frame()\n",
    "#plt.savefig('Figure/%s_bigotes2.png'%event,dpi=400,bbox_inches = 'tight')"
   ]
  },
  {
   "cell_type": "code",
   "execution_count": 77,
   "id": "a6e7cc09",
   "metadata": {},
   "outputs": [],
   "source": [
    "data=pd.concat(self.ConcEventMean)"
   ]
  },
  {
   "cell_type": "code",
   "execution_count": 78,
   "id": "9ae8ff9d",
   "metadata": {},
   "outputs": [
    {
     "data": {
      "text/html": [
       "<div>\n",
       "<style scoped>\n",
       "    .dataframe tbody tr th:only-of-type {\n",
       "        vertical-align: middle;\n",
       "    }\n",
       "\n",
       "    .dataframe tbody tr th {\n",
       "        vertical-align: top;\n",
       "    }\n",
       "\n",
       "    .dataframe thead th {\n",
       "        text-align: right;\n",
       "    }\n",
       "</style>\n",
       "<table border=\"1\" class=\"dataframe\">\n",
       "  <thead>\n",
       "    <tr style=\"text-align: right;\">\n",
       "      <th></th>\n",
       "      <th></th>\n",
       "      <th>-15</th>\n",
       "      <th>-3</th>\n",
       "      <th>4</th>\n",
       "    </tr>\n",
       "  </thead>\n",
       "  <tbody>\n",
       "    <tr>\n",
       "      <th>ion</th>\n",
       "      <th>Cloruro</th>\n",
       "      <td>-0.578641</td>\n",
       "      <td>0.214471</td>\n",
       "      <td>-0.596504</td>\n",
       "    </tr>\n",
       "    <tr>\n",
       "      <th>carbon</th>\n",
       "      <th>OC2</th>\n",
       "      <td>-0.015500</td>\n",
       "      <td>0.328883</td>\n",
       "      <td>-0.493076</td>\n",
       "    </tr>\n",
       "    <tr>\n",
       "      <th>ion</th>\n",
       "      <th>Fluoruro</th>\n",
       "      <td>-0.405673</td>\n",
       "      <td>0.368894</td>\n",
       "      <td>-0.653822</td>\n",
       "    </tr>\n",
       "    <tr>\n",
       "      <th rowspan=\"2\" valign=\"top\">soc</th>\n",
       "      <th>SOC</th>\n",
       "      <td>-0.742016</td>\n",
       "      <td>0.391277</td>\n",
       "      <td>-0.752308</td>\n",
       "    </tr>\n",
       "    <tr>\n",
       "      <th>SOC/OC</th>\n",
       "      <td>-0.746936</td>\n",
       "      <td>0.431514</td>\n",
       "      <td>-0.651522</td>\n",
       "    </tr>\n",
       "    <tr>\n",
       "      <th rowspan=\"2\" valign=\"top\">carbon</th>\n",
       "      <th>OC/EC</th>\n",
       "      <td>-0.634846</td>\n",
       "      <td>0.594435</td>\n",
       "      <td>-0.417217</td>\n",
       "    </tr>\n",
       "    <tr>\n",
       "      <th>OC1</th>\n",
       "      <td>-0.231842</td>\n",
       "      <td>0.630487</td>\n",
       "      <td>-0.441757</td>\n",
       "    </tr>\n",
       "  </tbody>\n",
       "</table>\n",
       "</div>"
      ],
      "text/plain": [
       "                      -15       -3         4 \n",
       "ion    Cloruro  -0.578641  0.214471 -0.596504\n",
       "carbon OC2      -0.015500  0.328883 -0.493076\n",
       "ion    Fluoruro -0.405673  0.368894 -0.653822\n",
       "soc    SOC      -0.742016  0.391277 -0.752308\n",
       "       SOC/OC   -0.746936  0.431514 -0.651522\n",
       "carbon OC/EC    -0.634846  0.594435 -0.417217\n",
       "       OC1      -0.231842  0.630487 -0.441757"
      ]
     },
     "execution_count": 78,
     "metadata": {},
     "output_type": "execute_result"
    }
   ],
   "source": [
    "data.sort_values(by=-3)"
   ]
  },
  {
   "cell_type": "code",
   "execution_count": 5,
   "id": "22a1c022",
   "metadata": {},
   "outputs": [],
   "source": [
    "#self.datos\n",
    "indexlev1 =self.datos.index.get_level_values(1)"
   ]
  },
  {
   "cell_type": "code",
   "execution_count": 11,
   "id": "4de2245a",
   "metadata": {},
   "outputs": [],
   "source": [
    "replacements = {'Fluoruro':'F$^-$', 'Cloruro':'Cl$^-$', 'Sulfato':'SO$_4^{-2}$'}\n",
    "replacer = replacements.get  # For faster gets.\n",
    "indexlev1=[replacer(n, n) for n in indexlev1 ]"
   ]
  },
  {
   "cell_type": "code",
   "execution_count": 10,
   "id": "01fa4e93",
   "metadata": {},
   "outputs": [],
   "source": [
    "datos=pd.concat(self.ConcEventMean)"
   ]
  },
  {
   "cell_type": "code",
   "execution_count": 104,
   "id": "564e3f11",
   "metadata": {},
   "outputs": [
    {
     "data": {
      "image/png": "[encoded data removed]",
      "text/plain": [
       "<Figure size 400x400 with 1 Axes>"
      ]
     },
     "metadata": {},
     "output_type": "display_data"
    }
   ],
   "source": [
    "#self.lockdown_dates = ['2020-04-01','2020-06-01']\n",
    "self.Plot_SinceEvent(variables='metal',compuesto='Mn',event='tcso2',filtro=False)"
   ]
  },
  {
   "cell_type": "code",
   "execution_count": 98,
   "id": "9396811c",
   "metadata": {},
   "outputs": [
    {
     "data": {
      "text/html": [
       "<div>\n",
       "<style scoped>\n",
       "    .dataframe tbody tr th:only-of-type {\n",
       "        vertical-align: middle;\n",
       "    }\n",
       "\n",
       "    .dataframe tbody tr th {\n",
       "        vertical-align: top;\n",
       "    }\n",
       "\n",
       "    .dataframe thead th {\n",
       "        text-align: right;\n",
       "    }\n",
       "</style>\n",
       "<table border=\"1\" class=\"dataframe\">\n",
       "  <thead>\n",
       "    <tr style=\"text-align: right;\">\n",
       "      <th></th>\n",
       "      <th>Prom</th>\n",
       "      <th>Median</th>\n",
       "      <th>Q25</th>\n",
       "      <th>Q75</th>\n",
       "      <th>Count</th>\n",
       "    </tr>\n",
       "  </thead>\n",
       "  <tbody>\n",
       "    <tr>\n",
       "      <th>-15</th>\n",
       "      <td>0.18643</td>\n",
       "      <td>0.177766</td>\n",
       "      <td>0.111068</td>\n",
       "      <td>0.224236</td>\n",
       "      <td>2000.0</td>\n",
       "    </tr>\n",
       "    <tr>\n",
       "      <th>-3</th>\n",
       "      <td>0.323515</td>\n",
       "      <td>0.293514</td>\n",
       "      <td>0.211097</td>\n",
       "      <td>0.389806</td>\n",
       "      <td>6571.428571</td>\n",
       "    </tr>\n",
       "    <tr>\n",
       "      <th>4</th>\n",
       "      <td>0.217329</td>\n",
       "      <td>0.220653</td>\n",
       "      <td>0.16635</td>\n",
       "      <td>0.244361</td>\n",
       "      <td>2428.571429</td>\n",
       "    </tr>\n",
       "  </tbody>\n",
       "</table>\n",
       "</div>"
      ],
      "text/plain": [
       "         Prom    Median       Q25       Q75        Count\n",
       "-15   0.18643  0.177766  0.111068  0.224236       2000.0\n",
       "-3   0.323515  0.293514  0.211097  0.389806  6571.428571\n",
       " 4   0.217329  0.220653   0.16635  0.244361  2428.571429"
      ]
     },
     "execution_count": 98,
     "metadata": {},
     "output_type": "execute_result"
    }
   ],
   "source": [
    "self.magnitude*1000/7"
   ]
  },
  {
   "cell_type": "code",
   "execution_count": 83,
   "id": "350b8974",
   "metadata": {},
   "outputs": [
    {
     "data": {
      "text/plain": [
       "0.00025"
      ]
     },
     "execution_count": 83,
     "metadata": {},
     "output_type": "execute_result"
    }
   ],
   "source": [
    "0.25/1000"
   ]
  },
  {
   "cell_type": "code",
   "execution_count": 89,
   "id": "5828ae67",
   "metadata": {},
   "outputs": [
    {
     "data": {
      "text/plain": [
       "2019-12-31    0.000375\n",
       "2020-12-31     0.00012\n",
       "2021-12-31    0.000239\n",
       "2022-12-31    0.000246\n",
       "Freq: A-DEC, Name: Cd, dtype: object"
      ]
     },
     "execution_count": 89,
     "metadata": {},
     "output_type": "execute_result"
    }
   ],
   "source": [
    "self.Chem['metal']['Cd'].resample('Y').mean()"
   ]
  },
  {
   "cell_type": "code",
   "execution_count": 73,
   "id": "d84fc1bd",
   "metadata": {},
   "outputs": [],
   "source": [
    "event='duaod'\n",
    "var='metal'\n",
    "Data=self.Chem[var].copy()\n",
    "Data['dias']=self.Events['dias_%s'%event][self.Events.index.floor('D').isin(Data.index)]\n",
    "temporal=Data[(Data['dias']>=-2)&(Data['dias']<=2)]"
   ]
  },
  {
   "cell_type": "code",
   "execution_count": 57,
   "id": "e27f2b98",
   "metadata": {},
   "outputs": [
    {
     "data": {
      "text/plain": [
       "2019-04-03    0.831843\n",
       "2019-04-06    0.198878\n",
       "2019-04-09    0.039694\n",
       "2019-04-12    0.144292\n",
       "2019-04-15    0.100873\n",
       "                ...   \n",
       "2022-08-24    0.020365\n",
       "2022-09-05    0.017198\n",
       "2022-09-17    0.014479\n",
       "2022-10-02     0.02058\n",
       "2022-10-05    0.020163\n",
       "Name: Cloruro, Length: 257, dtype: object"
      ]
     },
     "execution_count": 57,
     "metadata": {},
     "output_type": "execute_result"
    }
   ],
   "source": []
  },
  {
   "cell_type": "code",
   "execution_count": 74,
   "id": "7853c7a3",
   "metadata": {},
   "outputs": [
    {
     "data": {
      "text/plain": [
       "<matplotlib.collections.PathCollection at 0x1490dfb04f0>"
      ]
     },
     "execution_count": 74,
     "metadata": {},
     "output_type": "execute_result"
    },
    {
     "data": {
      "image/png": "[encoded data removed]",
      "text/plain": [
       "<Figure size 640x480 with 1 Axes>"
      ]
     },
     "metadata": {},
     "output_type": "display_data"
    }
   ],
   "source": [
    "plt.scatter(self.Chem[var]['Na'],Data['Mg'])\n",
    "plt.scatter(self.Chem[var]['Na'][(Data['dias']>=-2)&(Data['dias']<=2)],temporal['Mg'])\n",
    "\n",
    "#plt.scatter(temporal['Ti'],temporal['Pb'])\n",
    "#plt.xlim(0,0.2)"
   ]
  },
  {
   "cell_type": "code",
   "execution_count": 60,
   "id": "6b14e404",
   "metadata": {},
   "outputs": [],
   "source": [
    "var='duaod'\n",
    "level=2\n",
    "self.Events = pd.read_csv(self.data_folder+'Datos/EventsExtIdentification_2019-2022_AOD-SO2_20.csv',index_col=0,parse_dates=True) \n",
    "\n",
    "\n",
    "Formato=pd.read_excel(self.data_folder+'Datos/Formato_PMF.xlsx',sheet_name='Datos_Add',index_col=0,parse_dates=True) \n",
    "Hoja1=Formato[Formato.index.floor('D').isin(self.Events[(self.Events1['dias_%s'%var]>=-3)&(self.Events1['dias_%s'%var]<=3)].index)]\n",
    "Formato=pd.read_excel(self.data_folder+'Datos/Formato_PMF.xlsx',sheet_name='UNC EXP- Manual PMF',index_col=0,parse_dates=True,skiprows=2).iloc[:-22,:] \n",
    "Formato.index=pd.to_datetime(Formato.index)\n",
    "Hoja2=Formato[Formato.index.floor('D').isin(self.Events[(self.Events['dias_%s'%var]>=-3)&(self.Events['dias_%s'%var]<=3)].index)]\n"
   ]
  },
  {
   "cell_type": "code",
   "execution_count": 61,
   "id": "e2ac2017",
   "metadata": {},
   "outputs": [],
   "source": [
    "writer = pd.ExcelWriter('PMF_DUAOD_Polvo.xlsx', engine='xlsxwriter')\n",
    "\n",
    "#store your dataframes in a  dict, where the key is the sheet name you want\n",
    "frames = {'Datos_Add': Hoja1, 'UNC EXP- Manual PMF': Hoja2}\n",
    "\n",
    "#now loop thru and put each on a specific sheet\n",
    "for sheet, frame in  frames.items(): # .use .items for python 3.X\n",
    "    frame.to_excel(writer, sheet_name = sheet)\n",
    "\n",
    "#critical last step\n",
    "writer.save()"
   ]
  },
  {
   "cell_type": "code",
   "execution_count": 54,
   "id": "30c4ec85",
   "metadata": {},
   "outputs": [
    {
     "data": {
      "text/plain": [
       "dict_keys(['Datos_Add', 'UNC EXP- Manual PMF'])"
      ]
     },
     "execution_count": 54,
     "metadata": {},
     "output_type": "execute_result"
    }
   ],
   "source": [
    "frames.keys()"
   ]
  },
  {
   "cell_type": "code",
   "execution_count": 32,
   "id": "140f9652",
   "metadata": {},
   "outputs": [],
   "source": [
    "self.PostHoc_test(event='omaod',filtro=True)\n",
    "self.pcolor_SinceEvent(event='omaod',filtro=True,confianza=90)"
   ]
  },
  {
   "cell_type": "code",
   "execution_count": 34,
   "id": "a971fac1",
   "metadata": {},
   "outputs": [
    {
     "data": {
      "text/plain": [
       "(-3.0, 66.0)"
      ]
     },
     "execution_count": 34,
     "metadata": {},
     "output_type": "execute_result"
    },
    {
     "data": {
      "image/png": "[encoded data removed]",
      "text/plain": [
       "<Figure size 500x1000 with 1 Axes>"
      ]
     },
     "metadata": {},
     "output_type": "display_data"
    }
   ],
   "source": [
    "var= 'metal'\n",
    "plt.close()\n",
    "\n",
    "fig, ax= plt.subplots(figsize=(5, 10))\n",
    "ax.tick_params(axis ='both',labelsize=14)\n",
    "plt.xlabel('Standarized concentration [std.]',fontsize=14)\n",
    "\n",
    "datos=pd.concat(self.ConcEventMean)\n",
    "datos25=pd.concat(self.ConcEventQ25)\n",
    "datos75=pd.concat(self.ConcEventQ75)\n",
    "\n",
    "Y=np.arange(0,len(pd.concat(self.ConcEventMean))*3,3)\n",
    "\n",
    "plt.scatter(datos[-1],Y,color='k')\n",
    "plt.hlines(Y,datos25[-1],datos75[-1],color='k')\n",
    "plt.vlines(datos25[-1],Y-0.25,Y+0.25,color='k')\n",
    "plt.vlines(datos75[-1],Y-0.25,Y+0.25,color='k')\n",
    "\n",
    "plt.scatter(datos[-11],Y+0.5,color='r')\n",
    "plt.hlines(Y+0.5,datos25[-11],datos75[-11],color='r')\n",
    "plt.vlines(datos25[-11],Y+0.25,Y+0.75,color='r')\n",
    "plt.vlines(datos75[-11],Y+0.25,Y+0.75,color='r')\n",
    "\n",
    "plt.scatter(datos[9],Y-0.5,color='blue')\n",
    "plt.hlines(Y-0.5,datos25[9],datos75[9],color='blue')\n",
    "plt.vlines(datos25[9],Y-0.75,Y-0.25,color='blue')\n",
    "plt.vlines(datos75[9],Y-0.75,Y-0.25,color='blue')\n",
    "\n",
    "plt.vlines(0,-3,Y[-1]+3,linestyle='--',color='grey')\n",
    "#plt.invert_yaxis()  # labels read top-to-bottom\n",
    "\n",
    "indexlev1 =datos.index.get_level_values(1)\n",
    "indexlev0 =datos.index.get_level_values(0)\n",
    "plt.yticks(Y,indexlev1)\n",
    "\n",
    "for i in range(len(Y)):\n",
    "    value = self.df_PostHoc[indexlev0[i]][indexlev1[i]][1]\n",
    "    if (value<=0.1) and (value>0.05):\n",
    "        plt.text(datos75[-11][i]+0.05,Y[i]+0.45,'+',color='r')\n",
    "    if value<=0.05:\n",
    "        plt.text(datos75[-11][i]+0.05,Y[i]+0.45,'*',color='r')\n",
    "    value = self.df_PostHoc[indexlev0[i]][indexlev1[i]][3]\n",
    "    if (value<=0.1) and (value>0.05):\n",
    "        plt.text(datos75[9][i]+0.05,Y[i]-0.55,'+',color='blue')\n",
    "    if value<=0.05:\n",
    "        plt.text(datos75[9][i]+0.05,Y[i]-0.60,'*',color='blue',fontsize=14)\n",
    "\n",
    "plt.grid(alpha=0.5)\n",
    "plt.xlim(-2,2)\n",
    "plt.ylim(-3,Y[-1]+3)\n",
    "\n",
    "#plt.savefig('Figure/DiffutionRatio.png',dpi=400,bbox_inches = 'tight')"
   ]
  },
  {
   "cell_type": "code",
   "execution_count": 15,
   "id": "1104579c",
   "metadata": {},
   "outputs": [
    {
     "ename": "ValueError",
     "evalue": "Length of values (2) does not match length of index (3)",
     "output_type": "error",
     "traceback": [
      "\u001b[1;31m---------------------------------------------------------------------------\u001b[0m",
      "\u001b[1;31mValueError\u001b[0m                                Traceback (most recent call last)",
      "Cell \u001b[1;32mIn [15], line 25\u001b[0m\n\u001b[0;32m     23\u001b[0m \u001b[38;5;28;01mfor\u001b[39;00m com \u001b[38;5;129;01min\u001b[39;00m \u001b[38;5;28mself\u001b[39m\u001b[38;5;241m.\u001b[39mData\u001b[38;5;241m.\u001b[39mcolumns[\u001b[38;5;241m1\u001b[39m:\u001b[38;5;241m-\u001b[39m\u001b[38;5;241m2\u001b[39m \u001b[38;5;28;01mif\u001b[39;00m event\u001b[38;5;241m!=\u001b[39m\u001b[38;5;124m'\u001b[39m\u001b[38;5;124mtcso2\u001b[39m\u001b[38;5;124m'\u001b[39m \u001b[38;5;28;01melse\u001b[39;00m \u001b[38;5;241m-\u001b[39m\u001b[38;5;241m3\u001b[39m]:\n\u001b[0;32m     24\u001b[0m     Compara\u001b[38;5;241m=\u001b[39msp\u001b[38;5;241m.\u001b[39mposthoc_ttest(\u001b[38;5;28mself\u001b[39m\u001b[38;5;241m.\u001b[39mData, val_col\u001b[38;5;241m=\u001b[39mcom, group_col\u001b[38;5;241m=\u001b[39m\u001b[38;5;124m'\u001b[39m\u001b[38;5;124mCat\u001b[39m\u001b[38;5;124m'\u001b[39m, p_adjust\u001b[38;5;241m=\u001b[39m\u001b[38;5;124m'\u001b[39m\u001b[38;5;124mholm\u001b[39m\u001b[38;5;124m'\u001b[39m)\u001b[38;5;241m.\u001b[39msort_index()\u001b[38;5;241m.\u001b[39mround(\u001b[38;5;241m4\u001b[39m)\n\u001b[1;32m---> 25\u001b[0m     \u001b[38;5;28mself\u001b[39m\u001b[38;5;241m.\u001b[39mdf_PostHoc[var][com] \u001b[38;5;241m=\u001b[39m Compara\u001b[38;5;241m.\u001b[39miloc[bincompara,:]\u001b[38;5;241m.\u001b[39msort_index()\u001b[38;5;241m.\u001b[39mvalues\n",
      "File \u001b[1;32m~\\miniconda3\\lib\\site-packages\\pandas\\core\\frame.py:3607\u001b[0m, in \u001b[0;36mDataFrame.__setitem__\u001b[1;34m(self, key, value)\u001b[0m\n\u001b[0;32m   3604\u001b[0m     \u001b[38;5;28mself\u001b[39m\u001b[38;5;241m.\u001b[39m_setitem_array([key], value)\n\u001b[0;32m   3605\u001b[0m \u001b[38;5;28;01melse\u001b[39;00m:\n\u001b[0;32m   3606\u001b[0m     \u001b[38;5;66;03m# set column\u001b[39;00m\n\u001b[1;32m-> 3607\u001b[0m     \u001b[38;5;28;43mself\u001b[39;49m\u001b[38;5;241;43m.\u001b[39;49m\u001b[43m_set_item\u001b[49m\u001b[43m(\u001b[49m\u001b[43mkey\u001b[49m\u001b[43m,\u001b[49m\u001b[43m \u001b[49m\u001b[43mvalue\u001b[49m\u001b[43m)\u001b[49m\n",
      "File \u001b[1;32m~\\miniconda3\\lib\\site-packages\\pandas\\core\\frame.py:3779\u001b[0m, in \u001b[0;36mDataFrame._set_item\u001b[1;34m(self, key, value)\u001b[0m\n\u001b[0;32m   3769\u001b[0m \u001b[38;5;28;01mdef\u001b[39;00m \u001b[38;5;21m_set_item\u001b[39m(\u001b[38;5;28mself\u001b[39m, key, value) \u001b[38;5;241m-\u001b[39m\u001b[38;5;241m>\u001b[39m \u001b[38;5;28;01mNone\u001b[39;00m:\n\u001b[0;32m   3770\u001b[0m     \u001b[38;5;124;03m\"\"\"\u001b[39;00m\n\u001b[0;32m   3771\u001b[0m \u001b[38;5;124;03m    Add series to DataFrame in specified column.\u001b[39;00m\n\u001b[0;32m   3772\u001b[0m \n\u001b[1;32m   (...)\u001b[0m\n\u001b[0;32m   3777\u001b[0m \u001b[38;5;124;03m    ensure homogeneity.\u001b[39;00m\n\u001b[0;32m   3778\u001b[0m \u001b[38;5;124;03m    \"\"\"\u001b[39;00m\n\u001b[1;32m-> 3779\u001b[0m     value \u001b[38;5;241m=\u001b[39m \u001b[38;5;28;43mself\u001b[39;49m\u001b[38;5;241;43m.\u001b[39;49m\u001b[43m_sanitize_column\u001b[49m\u001b[43m(\u001b[49m\u001b[43mvalue\u001b[49m\u001b[43m)\u001b[49m\n\u001b[0;32m   3781\u001b[0m     \u001b[38;5;28;01mif\u001b[39;00m (\n\u001b[0;32m   3782\u001b[0m         key \u001b[38;5;129;01min\u001b[39;00m \u001b[38;5;28mself\u001b[39m\u001b[38;5;241m.\u001b[39mcolumns\n\u001b[0;32m   3783\u001b[0m         \u001b[38;5;129;01mand\u001b[39;00m value\u001b[38;5;241m.\u001b[39mndim \u001b[38;5;241m==\u001b[39m \u001b[38;5;241m1\u001b[39m\n\u001b[0;32m   3784\u001b[0m         \u001b[38;5;129;01mand\u001b[39;00m \u001b[38;5;129;01mnot\u001b[39;00m is_extension_array_dtype(value)\n\u001b[0;32m   3785\u001b[0m     ):\n\u001b[0;32m   3786\u001b[0m         \u001b[38;5;66;03m# broadcast across multiple columns if necessary\u001b[39;00m\n\u001b[0;32m   3787\u001b[0m         \u001b[38;5;28;01mif\u001b[39;00m \u001b[38;5;129;01mnot\u001b[39;00m \u001b[38;5;28mself\u001b[39m\u001b[38;5;241m.\u001b[39mcolumns\u001b[38;5;241m.\u001b[39mis_unique \u001b[38;5;129;01mor\u001b[39;00m \u001b[38;5;28misinstance\u001b[39m(\u001b[38;5;28mself\u001b[39m\u001b[38;5;241m.\u001b[39mcolumns, MultiIndex):\n",
      "File \u001b[1;32m~\\miniconda3\\lib\\site-packages\\pandas\\core\\frame.py:4504\u001b[0m, in \u001b[0;36mDataFrame._sanitize_column\u001b[1;34m(self, value)\u001b[0m\n\u001b[0;32m   4501\u001b[0m     \u001b[38;5;28;01mreturn\u001b[39;00m _reindex_for_setitem(value, \u001b[38;5;28mself\u001b[39m\u001b[38;5;241m.\u001b[39mindex)\n\u001b[0;32m   4503\u001b[0m \u001b[38;5;28;01mif\u001b[39;00m is_list_like(value):\n\u001b[1;32m-> 4504\u001b[0m     \u001b[43mcom\u001b[49m\u001b[38;5;241;43m.\u001b[39;49m\u001b[43mrequire_length_match\u001b[49m\u001b[43m(\u001b[49m\u001b[43mvalue\u001b[49m\u001b[43m,\u001b[49m\u001b[43m \u001b[49m\u001b[38;5;28;43mself\u001b[39;49m\u001b[38;5;241;43m.\u001b[39;49m\u001b[43mindex\u001b[49m\u001b[43m)\u001b[49m\n\u001b[0;32m   4505\u001b[0m \u001b[38;5;28;01mreturn\u001b[39;00m sanitize_array(value, \u001b[38;5;28mself\u001b[39m\u001b[38;5;241m.\u001b[39mindex, copy\u001b[38;5;241m=\u001b[39m\u001b[38;5;28;01mTrue\u001b[39;00m, allow_2d\u001b[38;5;241m=\u001b[39m\u001b[38;5;28;01mTrue\u001b[39;00m)\n",
      "File \u001b[1;32m~\\miniconda3\\lib\\site-packages\\pandas\\core\\common.py:531\u001b[0m, in \u001b[0;36mrequire_length_match\u001b[1;34m(data, index)\u001b[0m\n\u001b[0;32m    527\u001b[0m \u001b[38;5;124;03m\"\"\"\u001b[39;00m\n\u001b[0;32m    528\u001b[0m \u001b[38;5;124;03mCheck the length of data matches the length of the index.\u001b[39;00m\n\u001b[0;32m    529\u001b[0m \u001b[38;5;124;03m\"\"\"\u001b[39;00m\n\u001b[0;32m    530\u001b[0m \u001b[38;5;28;01mif\u001b[39;00m \u001b[38;5;28mlen\u001b[39m(data) \u001b[38;5;241m!=\u001b[39m \u001b[38;5;28mlen\u001b[39m(index):\n\u001b[1;32m--> 531\u001b[0m     \u001b[38;5;28;01mraise\u001b[39;00m \u001b[38;5;167;01mValueError\u001b[39;00m(\n\u001b[0;32m    532\u001b[0m         \u001b[38;5;124m\"\u001b[39m\u001b[38;5;124mLength of values \u001b[39m\u001b[38;5;124m\"\u001b[39m\n\u001b[0;32m    533\u001b[0m         \u001b[38;5;124mf\u001b[39m\u001b[38;5;124m\"\u001b[39m\u001b[38;5;124m(\u001b[39m\u001b[38;5;132;01m{\u001b[39;00m\u001b[38;5;28mlen\u001b[39m(data)\u001b[38;5;132;01m}\u001b[39;00m\u001b[38;5;124m) \u001b[39m\u001b[38;5;124m\"\u001b[39m\n\u001b[0;32m    534\u001b[0m         \u001b[38;5;124m\"\u001b[39m\u001b[38;5;124mdoes not match length of index \u001b[39m\u001b[38;5;124m\"\u001b[39m\n\u001b[0;32m    535\u001b[0m         \u001b[38;5;124mf\u001b[39m\u001b[38;5;124m\"\u001b[39m\u001b[38;5;124m(\u001b[39m\u001b[38;5;132;01m{\u001b[39;00m\u001b[38;5;28mlen\u001b[39m(index)\u001b[38;5;132;01m}\u001b[39;00m\u001b[38;5;124m)\u001b[39m\u001b[38;5;124m\"\u001b[39m\n\u001b[0;32m    536\u001b[0m     )\n",
      "\u001b[1;31mValueError\u001b[0m: Length of values (2) does not match length of index (3)"
     ]
    }
   ],
   "source": [
    "variables=['metal']\n",
    "filtro=True\n",
    "event='omaod'\n",
    "import scikit_posthocs as sp\n",
    "bincompara=1\n",
    "\n",
    "nn= self.nn.copy()\n",
    "self.df_PostHoc={}\n",
    "for var in variables:\n",
    "    Data=self.Chem[var].copy()\n",
    "    Data['dias']=self.Events['dias_%s'%event][self.Events.index.floor('D').isin(Data.index)]\n",
    "    if event == 'tcso2':\n",
    "        Data['dias2']=self.Events['dias_omaod'][self.Events.index.floor('D').isin(Data.index)]\n",
    "        Data=Data[(Data['dias2']>35)|(Data['dias2']<-10)]\t\t\t\n",
    "    if filtro==True:\n",
    "        Data=Data[(Data.index<self.lockdown_dates[0])|(Data.index>self.lockdown_dates[1])]\n",
    "\n",
    "    Data['Cat']=np.repeat(np.nan,len(Data))\n",
    "    for i in range(len(nn)-1):\n",
    "        Data.loc[lambda df:(df['dias']>=nn[i])&(df['dias']<nn[i+1]),'Cat']=int(i+1)\n",
    "    self.Data=Data.dropna(axis=0)\n",
    "    self.df_PostHoc[var]=pd.DataFrame(columns=self.Chem[var].columns,index=np.arange(1,len(nn)))\n",
    "    for com in self.Data.columns1:-2 if event!='tcso2' else -3]:\n",
    "        Compara=sp.posthoc_ttest(self.Data, val_col=com, group_col='Cat', p_adjust='holm').sort_index().round(4)\n",
    "        self.df_PostHoc[var][com] = Compara.iloc[bincompara,:].sort_index().values"
   ]
  },
  {
   "cell_type": "code",
   "execution_count": 20,
   "id": "efad1ce2",
   "metadata": {},
   "outputs": [
    {
     "data": {
      "text/plain": [
       "2019-04-03    1.0\n",
       "2019-04-06    1.0\n",
       "2020-02-09    3.0\n",
       "2020-02-12    3.0\n",
       "2020-02-15    3.0\n",
       "2020-02-18    3.0\n",
       "2020-02-21    3.0\n",
       "2020-02-24    3.0\n",
       "2020-03-16    1.0\n",
       "2020-03-19    1.0\n",
       "2021-03-17    1.0\n",
       "2021-03-23    1.0\n",
       "Name: Cat, dtype: float64"
      ]
     },
     "execution_count": 20,
     "metadata": {},
     "output_type": "execute_result"
    }
   ],
   "source": [
    "self.Data['Cat'][self.Data['Be']>=0]"
   ]
  }
 ],
 "metadata": {
  "kernelspec": {
   "display_name": "Python 3 (ipykernel)",
   "language": "python",
   "name": "python3"
  },
  "language_info": {
   "codemirror_mode": {
    "name": "ipython",
    "version": 3
   },
   "file_extension": ".py",
   "mimetype": "text/x-python",
   "name": "python",
   "nbconvert_exporter": "python",
   "pygments_lexer": "ipython3",
   "version": "3.9.5"
  }
 },
 "nbformat": 4,
 "nbformat_minor": 5
}
